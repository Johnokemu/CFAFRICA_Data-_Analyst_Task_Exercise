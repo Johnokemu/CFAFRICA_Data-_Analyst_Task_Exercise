{
 "cells": [
  {
   "cell_type": "markdown",
   "metadata": {},
   "source": [
    "EXPLORATORY DATA ANALYSIS OF TWEETS"
   ]
  },
  {
   "cell_type": "code",
   "execution_count": 1,
   "metadata": {},
   "outputs": [
    {
     "data": {
      "text/html": [
       "<div>\n",
       "<style scoped>\n",
       "    .dataframe tbody tr th:only-of-type {\n",
       "        vertical-align: middle;\n",
       "    }\n",
       "\n",
       "    .dataframe tbody tr th {\n",
       "        vertical-align: top;\n",
       "    }\n",
       "\n",
       "    .dataframe thead th {\n",
       "        text-align: right;\n",
       "    }\n",
       "</style>\n",
       "<table border=\"1\" class=\"dataframe\">\n",
       "  <thead>\n",
       "    <tr style=\"text-align: right;\">\n",
       "      <th></th>\n",
       "      <th>b\"@burnaboy You've said it all. #saynotoxenophobia\"</th>\n",
       "    </tr>\n",
       "  </thead>\n",
       "  <tbody>\n",
       "    <tr>\n",
       "      <th>3</th>\n",
       "      <td>b'The truth is nobody really wins when two bro...</td>\n",
       "    </tr>\n",
       "    <tr>\n",
       "      <th>4</th>\n",
       "      <td>b'RT @ahizecd: This is the best video I\\xe2\\x8...</td>\n",
       "    </tr>\n",
       "    <tr>\n",
       "      <th>5</th>\n",
       "      <td>b'RT @MTVBaseAfrica: A manifesto and a call to...</td>\n",
       "    </tr>\n",
       "    <tr>\n",
       "      <th>7</th>\n",
       "      <td>b'Gods grace is sufficient \\n\\n               ...</td>\n",
       "    </tr>\n",
       "    <tr>\n",
       "      <th>8</th>\n",
       "      <td>b\"RT @musty_mustaphar: If you don't feel, then...</td>\n",
       "    </tr>\n",
       "  </tbody>\n",
       "</table>\n",
       "</div>"
      ],
      "text/plain": [
       "  b\"@burnaboy You've said it all. #saynotoxenophobia\"\n",
       "3  b'The truth is nobody really wins when two bro... \n",
       "4  b'RT @ahizecd: This is the best video I\\xe2\\x8... \n",
       "5  b'RT @MTVBaseAfrica: A manifesto and a call to... \n",
       "7  b'Gods grace is sufficient \\n\\n               ... \n",
       "8  b\"RT @musty_mustaphar: If you don't feel, then... "
      ]
     },
     "execution_count": 1,
     "metadata": {},
     "output_type": "execute_result"
    }
   ],
   "source": [
    "# I will use the task4saynotoxenophobia csv file that I got after running the task4_extract_tweets.py\n",
    "import pandas as pd\n",
    "from sklearn.feature_extraction.text import CountVectorizer,TfidfVectorizer\n",
    "from sklearn.base import TransformerMixin\n",
    "from sklearn.pipeline import Pipeline\n",
    "# Loading CSV file\n",
    "df_xenophobic = pd.read_csv (\"task4SayNoToXenophobia.csv\")\n",
    "df_xenophobic.drop_duplicates(keep = False,inplace=True)\n",
    "df_xenophobic.head()"
   ]
  },
  {
   "cell_type": "code",
   "execution_count": 2,
   "metadata": {},
   "outputs": [],
   "source": [
    "# We are going to change this to keyt\n",
    "def combine_text(list_of_text):\n",
    "    '''Takes a list of tweets and combines them into one large chunk of tweet.'''\n",
    "    combined_text = ' '.join(list_of_text)\n",
    "    return combined_text"
   ]
  },
  {
   "cell_type": "code",
   "execution_count": 3,
   "metadata": {},
   "outputs": [],
   "source": [
    "# Combine it!\n",
    "data_combined = {key: [combine_text(value)] for (key, value) in df_xenophobic.items()}"
   ]
  },
  {
   "cell_type": "code",
   "execution_count": 4,
   "metadata": {},
   "outputs": [
    {
     "data": {
      "text/html": [
       "<div>\n",
       "<style scoped>\n",
       "    .dataframe tbody tr th:only-of-type {\n",
       "        vertical-align: middle;\n",
       "    }\n",
       "\n",
       "    .dataframe tbody tr th {\n",
       "        vertical-align: top;\n",
       "    }\n",
       "\n",
       "    .dataframe thead th {\n",
       "        text-align: right;\n",
       "    }\n",
       "</style>\n",
       "<table border=\"1\" class=\"dataframe\">\n",
       "  <thead>\n",
       "    <tr style=\"text-align: right;\">\n",
       "      <th></th>\n",
       "      <th>text</th>\n",
       "    </tr>\n",
       "  </thead>\n",
       "  <tbody>\n",
       "    <tr>\n",
       "      <th>b\"@burnaboy You've said it all. #saynotoxenophobia\"</th>\n",
       "      <td>b'The truth is nobody really wins when two brothers are at war. South Africa \\xf0\\x9f\\x87\\xbf\\xf0\\x9f\\x87\\xa6 Nigeria \\xf0\\x9f\\x87\\xb3\\xf0\\x9f\\x87...</td>\n",
       "    </tr>\n",
       "  </tbody>\n",
       "</table>\n",
       "</div>"
      ],
      "text/plain": [
       "                                                                                                                                                                                                      text\n",
       "b\"@burnaboy You've said it all. #saynotoxenophobia\"  b'The truth is nobody really wins when two brothers are at war. South Africa \\xf0\\x9f\\x87\\xbf\\xf0\\x9f\\x87\\xa6 Nigeria \\xf0\\x9f\\x87\\xb3\\xf0\\x9f\\x87..."
      ]
     },
     "execution_count": 4,
     "metadata": {},
     "output_type": "execute_result"
    }
   ],
   "source": [
    "# We can either keep it in dictionary format or put it into a pandas dataframe\n",
    "import pandas as pd\n",
    "pd.set_option('max_colwidth',150)\n",
    "\n",
    "data_df = pd.DataFrame.from_dict(data_combined).transpose()\n",
    "data_df.columns = ['text']\n",
    "data_df = data_df.sort_index()\n",
    "data_df"
   ]
  },
  {
   "cell_type": "code",
   "execution_count": 5,
   "metadata": {},
   "outputs": [],
   "source": [
    "# Apply a first round of text cleaning techniques\n",
    "import re\n",
    "import string\n",
    "\n",
    "def clean_text_round1(text):\n",
    "    '''Make text lowercase, remove text in square brackets, remove punctuation and remove words containing numbers.'''\n",
    "    text = text.lower()\n",
    "    text = re.sub('\\[.*?\\]', '', text)\n",
    "    text = re.sub('[%s]' % re.escape(string.punctuation), '', text)\n",
    "    text = re.sub('\\w*\\d\\w*', '', text)\n",
    "    return text\n",
    "\n",
    "round1 = lambda x: clean_text_round1(x)"
   ]
  },
  {
   "cell_type": "code",
   "execution_count": 6,
   "metadata": {},
   "outputs": [
    {
     "data": {
      "text/html": [
       "<div>\n",
       "<style scoped>\n",
       "    .dataframe tbody tr th:only-of-type {\n",
       "        vertical-align: middle;\n",
       "    }\n",
       "\n",
       "    .dataframe tbody tr th {\n",
       "        vertical-align: top;\n",
       "    }\n",
       "\n",
       "    .dataframe thead th {\n",
       "        text-align: right;\n",
       "    }\n",
       "</style>\n",
       "<table border=\"1\" class=\"dataframe\">\n",
       "  <thead>\n",
       "    <tr style=\"text-align: right;\">\n",
       "      <th></th>\n",
       "      <th>text</th>\n",
       "    </tr>\n",
       "  </thead>\n",
       "  <tbody>\n",
       "    <tr>\n",
       "      <th>b\"@burnaboy You've said it all. #saynotoxenophobia\"</th>\n",
       "      <td>bthe truth is nobody really wins when two brothers are at war south africa  nigeria  we are one    brt ahizecd this is the best video  seen all da...</td>\n",
       "    </tr>\n",
       "  </tbody>\n",
       "</table>\n",
       "</div>"
      ],
      "text/plain": [
       "                                                                                                                                                                                                      text\n",
       "b\"@burnaboy You've said it all. #saynotoxenophobia\"  bthe truth is nobody really wins when two brothers are at war south africa  nigeria  we are one    brt ahizecd this is the best video  seen all da..."
      ]
     },
     "execution_count": 6,
     "metadata": {},
     "output_type": "execute_result"
    }
   ],
   "source": [
    "# Let's take a look at the updated text\n",
    "data_clean = pd.DataFrame(data_df.text.apply(round1))\n",
    "data_clean"
   ]
  },
  {
   "cell_type": "code",
   "execution_count": 7,
   "metadata": {},
   "outputs": [],
   "source": [
    "# Apply a second round of cleaning\n",
    "def clean_text_round2(text):\n",
    "    '''Get rid of some additional punctuation and non-sensical text that was missed the first time around.'''\n",
    "    text = re.sub('[‘’“”…]', '', text)\n",
    "    text = re.sub('\\n', '', text)\n",
    "    return text\n",
    "\n",
    "round2 = lambda x: clean_text_round2(x)"
   ]
  },
  {
   "cell_type": "code",
   "execution_count": 8,
   "metadata": {},
   "outputs": [
    {
     "data": {
      "text/html": [
       "<div>\n",
       "<style scoped>\n",
       "    .dataframe tbody tr th:only-of-type {\n",
       "        vertical-align: middle;\n",
       "    }\n",
       "\n",
       "    .dataframe tbody tr th {\n",
       "        vertical-align: top;\n",
       "    }\n",
       "\n",
       "    .dataframe thead th {\n",
       "        text-align: right;\n",
       "    }\n",
       "</style>\n",
       "<table border=\"1\" class=\"dataframe\">\n",
       "  <thead>\n",
       "    <tr style=\"text-align: right;\">\n",
       "      <th></th>\n",
       "      <th>text</th>\n",
       "    </tr>\n",
       "  </thead>\n",
       "  <tbody>\n",
       "    <tr>\n",
       "      <th>b\"@burnaboy You've said it all. #saynotoxenophobia\"</th>\n",
       "      <td>bthe truth is nobody really wins when two brothers are at war south africa  nigeria  we are one    brt ahizecd this is the best video  seen all da...</td>\n",
       "    </tr>\n",
       "  </tbody>\n",
       "</table>\n",
       "</div>"
      ],
      "text/plain": [
       "                                                                                                                                                                                                      text\n",
       "b\"@burnaboy You've said it all. #saynotoxenophobia\"  bthe truth is nobody really wins when two brothers are at war south africa  nigeria  we are one    brt ahizecd this is the best video  seen all da..."
      ]
     },
     "execution_count": 8,
     "metadata": {},
     "output_type": "execute_result"
    }
   ],
   "source": [
    "# Let's take a look at the updated text\n",
    "data_clean = pd.DataFrame(data_clean.text.apply(round2))\n",
    "data_clean"
   ]
  },
  {
   "cell_type": "code",
   "execution_count": 9,
   "metadata": {},
   "outputs": [
    {
     "data": {
      "text/html": [
       "<div>\n",
       "<style scoped>\n",
       "    .dataframe tbody tr th:only-of-type {\n",
       "        vertical-align: middle;\n",
       "    }\n",
       "\n",
       "    .dataframe tbody tr th {\n",
       "        vertical-align: top;\n",
       "    }\n",
       "\n",
       "    .dataframe thead th {\n",
       "        text-align: right;\n",
       "    }\n",
       "</style>\n",
       "<table border=\"1\" class=\"dataframe\">\n",
       "  <thead>\n",
       "    <tr style=\"text-align: right;\">\n",
       "      <th></th>\n",
       "      <th>able</th>\n",
       "      <th>absolutely</th>\n",
       "      <th>abuse</th>\n",
       "      <th>accountable</th>\n",
       "      <th>action</th>\n",
       "      <th>affecting</th>\n",
       "      <th>africa</th>\n",
       "      <th>african</th>\n",
       "      <th>africans</th>\n",
       "      <th>africarightstalk</th>\n",
       "      <th>...</th>\n",
       "      <th>wrong</th>\n",
       "      <th>xenophobia</th>\n",
       "      <th>xenophobic</th>\n",
       "      <th>xenophobicattack</th>\n",
       "      <th>xenophobicattacks</th>\n",
       "      <th>xs</th>\n",
       "      <th>xxxtentacions</th>\n",
       "      <th>yinka</th>\n",
       "      <th>youre</th>\n",
       "      <th>zimbabwean</th>\n",
       "    </tr>\n",
       "  </thead>\n",
       "  <tbody>\n",
       "    <tr>\n",
       "      <th>b\"@burnaboy You've said it all. #saynotoxenophobia\"</th>\n",
       "      <td>1</td>\n",
       "      <td>1</td>\n",
       "      <td>1</td>\n",
       "      <td>1</td>\n",
       "      <td>1</td>\n",
       "      <td>1</td>\n",
       "      <td>4</td>\n",
       "      <td>4</td>\n",
       "      <td>5</td>\n",
       "      <td>1</td>\n",
       "      <td>...</td>\n",
       "      <td>3</td>\n",
       "      <td>2</td>\n",
       "      <td>2</td>\n",
       "      <td>1</td>\n",
       "      <td>1</td>\n",
       "      <td>1</td>\n",
       "      <td>1</td>\n",
       "      <td>1</td>\n",
       "      <td>2</td>\n",
       "      <td>1</td>\n",
       "    </tr>\n",
       "  </tbody>\n",
       "</table>\n",
       "<p>1 rows × 384 columns</p>\n",
       "</div>"
      ],
      "text/plain": [
       "                                                     able  absolutely  abuse  \\\n",
       "b\"@burnaboy You've said it all. #saynotoxenophobia\"     1           1      1   \n",
       "\n",
       "                                                     accountable  action  \\\n",
       "b\"@burnaboy You've said it all. #saynotoxenophobia\"            1       1   \n",
       "\n",
       "                                                     affecting  africa  \\\n",
       "b\"@burnaboy You've said it all. #saynotoxenophobia\"          1       4   \n",
       "\n",
       "                                                     african  africans  \\\n",
       "b\"@burnaboy You've said it all. #saynotoxenophobia\"        4         5   \n",
       "\n",
       "                                                     africarightstalk  ...  \\\n",
       "b\"@burnaboy You've said it all. #saynotoxenophobia\"                 1  ...   \n",
       "\n",
       "                                                     wrong  xenophobia  \\\n",
       "b\"@burnaboy You've said it all. #saynotoxenophobia\"      3           2   \n",
       "\n",
       "                                                     xenophobic  \\\n",
       "b\"@burnaboy You've said it all. #saynotoxenophobia\"           2   \n",
       "\n",
       "                                                     xenophobicattack  \\\n",
       "b\"@burnaboy You've said it all. #saynotoxenophobia\"                 1   \n",
       "\n",
       "                                                     xenophobicattacks  xs  \\\n",
       "b\"@burnaboy You've said it all. #saynotoxenophobia\"                  1   1   \n",
       "\n",
       "                                                     xxxtentacions  yinka  \\\n",
       "b\"@burnaboy You've said it all. #saynotoxenophobia\"              1      1   \n",
       "\n",
       "                                                     youre  zimbabwean  \n",
       "b\"@burnaboy You've said it all. #saynotoxenophobia\"      2           1  \n",
       "\n",
       "[1 rows x 384 columns]"
      ]
     },
     "execution_count": 9,
     "metadata": {},
     "output_type": "execute_result"
    }
   ],
   "source": [
    "# We are going to create a document-term matrix using CountVectorizer, and exclude common English stop words\n",
    "from sklearn.feature_extraction.text import CountVectorizer\n",
    "\n",
    "cv = CountVectorizer(stop_words='english')\n",
    "data_cv = cv.fit_transform(data_clean.text)\n",
    "data_dtm = pd.DataFrame(data_cv.toarray(), columns=cv.get_feature_names())\n",
    "data_dtm.index = data_clean.index\n",
    "data_dtm"
   ]
  },
  {
   "cell_type": "code",
   "execution_count": 10,
   "metadata": {},
   "outputs": [
    {
     "data": {
      "text/html": [
       "<div>\n",
       "<style scoped>\n",
       "    .dataframe tbody tr th:only-of-type {\n",
       "        vertical-align: middle;\n",
       "    }\n",
       "\n",
       "    .dataframe tbody tr th {\n",
       "        vertical-align: top;\n",
       "    }\n",
       "\n",
       "    .dataframe thead th {\n",
       "        text-align: right;\n",
       "    }\n",
       "</style>\n",
       "<table border=\"1\" class=\"dataframe\">\n",
       "  <thead>\n",
       "    <tr style=\"text-align: right;\">\n",
       "      <th></th>\n",
       "      <th>b\"@burnaboy You've said it all. #saynotoxenophobia\"</th>\n",
       "    </tr>\n",
       "  </thead>\n",
       "  <tbody>\n",
       "    <tr>\n",
       "      <th>able</th>\n",
       "      <td>1</td>\n",
       "    </tr>\n",
       "    <tr>\n",
       "      <th>absolutely</th>\n",
       "      <td>1</td>\n",
       "    </tr>\n",
       "    <tr>\n",
       "      <th>abuse</th>\n",
       "      <td>1</td>\n",
       "    </tr>\n",
       "    <tr>\n",
       "      <th>accountable</th>\n",
       "      <td>1</td>\n",
       "    </tr>\n",
       "    <tr>\n",
       "      <th>action</th>\n",
       "      <td>1</td>\n",
       "    </tr>\n",
       "  </tbody>\n",
       "</table>\n",
       "</div>"
      ],
      "text/plain": [
       "             b\"@burnaboy You've said it all. #saynotoxenophobia\"\n",
       "able                                                           1\n",
       "absolutely                                                     1\n",
       "abuse                                                          1\n",
       "accountable                                                    1\n",
       "action                                                         1"
      ]
     },
     "execution_count": 10,
     "metadata": {},
     "output_type": "execute_result"
    }
   ],
   "source": [
    "# Read and transpose the document-term matrix\n",
    "import pandas as pd\n",
    "\n",
    "data = data_dtm\n",
    "data = data.transpose()\n",
    "data.head()"
   ]
  },
  {
   "cell_type": "code",
   "execution_count": 11,
   "metadata": {},
   "outputs": [
    {
     "data": {
      "text/plain": [
       "{'b\"@burnaboy You\\'ve said it all. #saynotoxenophobia\"': [('brt', 42),\n",
       "  ('saynotoxenophobia', 20),\n",
       "  ('south', 10),\n",
       "  ('burnaboy', 5),\n",
       "  ('just', 5),\n",
       "  ('like', 5),\n",
       "  ('africans', 5),\n",
       "  ('african', 4),\n",
       "  ('nigeria', 4),\n",
       "  ('dont', 4),\n",
       "  ('blacks', 4),\n",
       "  ('africa', 4),\n",
       "  ('government', 3),\n",
       "  ('nnot', 3),\n",
       "  ('stoptheviolence', 3),\n",
       "  ('people', 3),\n",
       "  ('attacks', 3),\n",
       "  ('love', 3),\n",
       "  ('problem', 3),\n",
       "  ('president', 3),\n",
       "  ('rt', 3),\n",
       "  ('bio', 3),\n",
       "  ('brothers', 3),\n",
       "  ('nigerians', 3),\n",
       "  ('killing', 3),\n",
       "  ('kill', 3),\n",
       "  ('nigerian', 3),\n",
       "  ('wrong', 3),\n",
       "  ('listen', 3),\n",
       "  ('matter', 2)]}"
      ]
     },
     "execution_count": 11,
     "metadata": {},
     "output_type": "execute_result"
    }
   ],
   "source": [
    "# Find the top 30 words used in each tweet\n",
    "top_dict = {}\n",
    "for c in data.columns:\n",
    "    top = data[c].sort_values(ascending=False).head(30)\n",
    "    top_dict[c]= list(zip(top.index, top.values))\n",
    "\n",
    "top_dict"
   ]
  },
  {
   "cell_type": "code",
   "execution_count": 12,
   "metadata": {},
   "outputs": [
    {
     "name": "stdout",
     "output_type": "stream",
     "text": [
      "b\"@burnaboy You've said it all. #saynotoxenophobia\"\n",
      "brt, saynotoxenophobia, south, burnaboy, just, like, africans, african, nigeria, dont, blacks, africa, government, nnot\n",
      "---\n"
     ]
    }
   ],
   "source": [
    "# Print the top 15 words said in each tweet\n",
    "for text, top_words in top_dict.items():\n",
    "    print(text)\n",
    "    print(', '.join([word for word, count in top_words[0:14]]))\n",
    "    print('---')"
   ]
  },
  {
   "cell_type": "code",
   "execution_count": 13,
   "metadata": {},
   "outputs": [
    {
     "data": {
      "text/plain": [
       "['brt',\n",
       " 'saynotoxenophobia',\n",
       " 'south',\n",
       " 'burnaboy',\n",
       " 'just',\n",
       " 'like',\n",
       " 'africans',\n",
       " 'african',\n",
       " 'nigeria',\n",
       " 'dont',\n",
       " 'blacks',\n",
       " 'africa',\n",
       " 'government',\n",
       " 'nnot',\n",
       " 'stoptheviolence',\n",
       " 'people',\n",
       " 'attacks',\n",
       " 'love',\n",
       " 'problem',\n",
       " 'president',\n",
       " 'rt',\n",
       " 'bio',\n",
       " 'brothers',\n",
       " 'nigerians',\n",
       " 'killing',\n",
       " 'kill',\n",
       " 'nigerian',\n",
       " 'wrong',\n",
       " 'listen',\n",
       " 'matter']"
      ]
     },
     "execution_count": 13,
     "metadata": {},
     "output_type": "execute_result"
    }
   ],
   "source": [
    "# Look at the most common top words --> add them to the stop word list\n",
    "from collections import Counter\n",
    "\n",
    "# Let's first pull out the top 30 words for each tweet\n",
    "words = []\n",
    "for text in data.columns:\n",
    "    top = [word for (word, count) in top_dict[text]]\n",
    "    for t in top:\n",
    "        words.append(t)\n",
    "        \n",
    "words"
   ]
  },
  {
   "cell_type": "code",
   "execution_count": 14,
   "metadata": {},
   "outputs": [
    {
     "data": {
      "text/plain": [
       "[('brt', 1),\n",
       " ('saynotoxenophobia', 1),\n",
       " ('south', 1),\n",
       " ('burnaboy', 1),\n",
       " ('just', 1),\n",
       " ('like', 1),\n",
       " ('africans', 1),\n",
       " ('african', 1),\n",
       " ('nigeria', 1),\n",
       " ('dont', 1),\n",
       " ('blacks', 1),\n",
       " ('africa', 1),\n",
       " ('government', 1),\n",
       " ('nnot', 1),\n",
       " ('stoptheviolence', 1),\n",
       " ('people', 1),\n",
       " ('attacks', 1),\n",
       " ('love', 1),\n",
       " ('problem', 1),\n",
       " ('president', 1),\n",
       " ('rt', 1),\n",
       " ('bio', 1),\n",
       " ('brothers', 1),\n",
       " ('nigerians', 1),\n",
       " ('killing', 1),\n",
       " ('kill', 1),\n",
       " ('nigerian', 1),\n",
       " ('wrong', 1),\n",
       " ('listen', 1),\n",
       " ('matter', 1)]"
      ]
     },
     "execution_count": 14,
     "metadata": {},
     "output_type": "execute_result"
    }
   ],
   "source": [
    "# Let's aggregate this list and identify the most common words along with how many routines they occur in\n",
    "Counter(words).most_common()"
   ]
  },
  {
   "cell_type": "code",
   "execution_count": 15,
   "metadata": {},
   "outputs": [
    {
     "data": {
      "text/plain": [
       "['brt',\n",
       " 'saynotoxenophobia',\n",
       " 'south',\n",
       " 'burnaboy',\n",
       " 'just',\n",
       " 'like',\n",
       " 'africans',\n",
       " 'african',\n",
       " 'nigeria',\n",
       " 'dont',\n",
       " 'blacks',\n",
       " 'africa',\n",
       " 'government',\n",
       " 'nnot',\n",
       " 'stoptheviolence',\n",
       " 'people',\n",
       " 'attacks',\n",
       " 'love',\n",
       " 'problem',\n",
       " 'president',\n",
       " 'rt',\n",
       " 'bio',\n",
       " 'brothers',\n",
       " 'nigerians',\n",
       " 'killing',\n",
       " 'kill',\n",
       " 'nigerian',\n",
       " 'wrong',\n",
       " 'listen',\n",
       " 'matter']"
      ]
     },
     "execution_count": 15,
     "metadata": {},
     "output_type": "execute_result"
    }
   ],
   "source": [
    "# If more than half of the tweets have it as a top word, exclude it from the list\n",
    "add_stop_words = [word for word, count in Counter(words).most_common() if count== 1]\n",
    "add_stop_words"
   ]
  },
  {
   "cell_type": "code",
   "execution_count": 16,
   "metadata": {},
   "outputs": [],
   "source": [
    "# Let's update our document-term matrix with the new list of stop words\n",
    "from sklearn.feature_extraction import text \n",
    "from sklearn.feature_extraction.text import CountVectorizer\n",
    "\n",
    "\n",
    "# Add new stop words\n",
    "stop_words = text.ENGLISH_STOP_WORDS.union(add_stop_words)\n",
    "\n",
    "# Recreate document-term matrix\n",
    "cv = CountVectorizer(stop_words=stop_words)\n",
    "data_cv = cv.fit_transform(data_clean.text)\n",
    "data_stop = pd.DataFrame(data_cv.toarray(), columns=cv.get_feature_names())\n",
    "data_stop.index = data_clean.index"
   ]
  },
  {
   "cell_type": "code",
   "execution_count": 17,
   "metadata": {},
   "outputs": [],
   "source": [
    "# Let's make some word clouds!\n",
    "from wordcloud import WordCloud\n",
    "\n",
    "wc = WordCloud(stopwords=stop_words, background_color=\"white\", colormap=\"Dark2\",\n",
    "               max_font_size=150, random_state=42)"
   ]
  },
  {
   "cell_type": "code",
   "execution_count": 18,
   "metadata": {},
   "outputs": [
    {
     "data": {
      "image/png": "[encoded data removed]",
      "text/plain": [
       "<Figure size 2664x1728 with 1 Axes>"
      ]
     },
     "metadata": {
      "needs_background": "light"
     },
     "output_type": "display_data"
    }
   ],
   "source": [
    "# Reset the output dimensions\n",
    "import matplotlib.pyplot as plt\n",
    "\n",
    "plt.rcParams['figure.figsize'] = [37, 24]\n",
    "\n",
    "full_names = ['text']\n",
    "\n",
    "# Create subplots for each comedian\n",
    "for index, text in enumerate(data.columns):\n",
    "    wc.generate(data_clean.text[text])\n",
    "    \n",
    "    plt.subplot(5, 6, index+1)\n",
    "    plt.imshow(wc, interpolation=\"bilinear\")\n",
    "    plt.axis(\"off\")\n",
    "    plt.title(full_names[index])\n",
    "    \n",
    "plt.show()"
   ]
  },
  {
   "cell_type": "markdown",
   "metadata": {},
   "source": [
    "Findings\n",
    "\n",
    "Alot of people who used hashtag #SayNoToXenophobia in south Africa,used the words feel,war,Video,stopxenophobia alot"
   ]
  },
  {
   "cell_type": "markdown",
   "metadata": {},
   "source": [
    "SENTIMENTAL ANALYSIS OF TWEETS"
   ]
  },
  {
   "cell_type": "code",
   "execution_count": 19,
   "metadata": {},
   "outputs": [
    {
     "data": {
      "text/html": [
       "<div>\n",
       "<style scoped>\n",
       "    .dataframe tbody tr th:only-of-type {\n",
       "        vertical-align: middle;\n",
       "    }\n",
       "\n",
       "    .dataframe tbody tr th {\n",
       "        vertical-align: top;\n",
       "    }\n",
       "\n",
       "    .dataframe thead th {\n",
       "        text-align: right;\n",
       "    }\n",
       "</style>\n",
       "<table border=\"1\" class=\"dataframe\">\n",
       "  <thead>\n",
       "    <tr style=\"text-align: right;\">\n",
       "      <th></th>\n",
       "      <th>text</th>\n",
       "    </tr>\n",
       "  </thead>\n",
       "  <tbody>\n",
       "    <tr>\n",
       "      <th>b\"@burnaboy You've said it all. #saynotoxenophobia\"</th>\n",
       "      <td>bthe truth is nobody really wins when two brothers are at war south africa  nigeria  we are one    brt ahizecd this is the best video  seen all da...</td>\n",
       "    </tr>\n",
       "  </tbody>\n",
       "</table>\n",
       "</div>"
      ],
      "text/plain": [
       "                                                                                                                                                                                                      text\n",
       "b\"@burnaboy You've said it all. #saynotoxenophobia\"  bthe truth is nobody really wins when two brothers are at war south africa  nigeria  we are one    brt ahizecd this is the best video  seen all da..."
      ]
     },
     "execution_count": 19,
     "metadata": {},
     "output_type": "execute_result"
    }
   ],
   "source": [
    "# We'll start by reading in the corpus, which preserves word order\n",
    "import pandas as pd\n",
    "data_clean"
   ]
  },
  {
   "cell_type": "code",
   "execution_count": null,
   "metadata": {},
   "outputs": [],
   "source": [
    "# Create quick lambda functions to find the polarity and subjectivity of each routine\n",
    "from textblob import TextBlob\n",
    "\n",
    "pol = lambda x: TextBlob(x).sentiment.polarity\n",
    "sub = lambda x: TextBlob(x).sentiment.subjectivity\n",
    "\n",
    "data_clean['polarity'] = data_clean['text'].apply(pol)\n",
    "data_clean['subjectivity'] = data_clean['text'].apply(sub)\n",
    "data_clean"
   ]
  },
  {
   "cell_type": "code",
   "execution_count": null,
   "metadata": {},
   "outputs": [],
   "source": [
    "# Let's plot the results\n",
    "import matplotlib.pyplot as plt\n",
    "\n",
    "plt.rcParams['figure.figsize'] = [10, 8]\n",
    "\n",
    "for index, text in enumerate(data_clean.index):\n",
    "    x = data_clean.polarity.loc[text]\n",
    "    y = data_clean.subjectivity.loc[text]\n",
    "    plt.scatter(x, y, color='blue')\n",
    "    #plt.text(x+.001, y+.001, data_clean['column_name'][index], fontsize=10)\n",
    "    plt.xlim(-.01, .12) \n",
    "    \n",
    "plt.title('Sentiment Analysis', fontsize=20)\n",
    "plt.xlabel('<-- Negative -------- Positive -->', fontsize=15)\n",
    "plt.ylabel('<-- Facts -------- Opinions -->', fontsize=15)\n",
    "\n",
    "plt.show()"
   ]
  },
  {
   "cell_type": "markdown",
   "metadata": {},
   "source": [
    "Findings\n",
    "\n",
    "From the sample of tweets,we can see that the polarity tend to be neutral,their sentiments were neither strong negative nor strong negative"
   ]
  }
 ],
 "metadata": {
  "kernelspec": {
   "display_name": "Python 3",
   "language": "python",
   "name": "python3"
  },
  "language_info": {
   "codemirror_mode": {
    "name": "ipython",
    "version": 3
   },
   "file_extension": ".py",
   "mimetype": "text/x-python",
   "name": "python",
   "nbconvert_exporter": "python",
   "pygments_lexer": "ipython3",
   "version": "3.7.4"
  }
 },
 "nbformat": 4,
 "nbformat_minor": 2
}
